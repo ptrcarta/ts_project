{
 "cells": [
  {
   "cell_type": "code",
   "execution_count": 1,
   "metadata": {},
   "outputs": [],
   "source": [
    "import swissgrid\n",
    "import numpy as np\n",
    "import pandas as pd\n",
    "import matplotlib.pyplot as plt\n",
    "import holidays\n",
    "from sklearn.linear_model import LinearRegression\n",
    "import datetime\n",
    "import scipy.stats as stats\n",
    "import statsmodels.api as sm"
   ]
  },
  {
   "cell_type": "code",
   "execution_count": 2,
   "metadata": {},
   "outputs": [],
   "source": [
    "ts = swissgrid.grid_data.iloc[:,0] #end user consumption\n",
    "# ts = ts.resample('1 H').mean()\n",
    "\n",
    "weather = pd.read_csv('data/weather_data_filtered.csv')\n",
    "weather['timestamp'] = pd.to_datetime(weather['utc_timestamp'])\n",
    "weather = weather[['timestamp', 'CH_temperature']].set_index('timestamp').sort_index()\n",
    "weather = weather.tz_localize(None) #drop bad tz information. timestamp is not really UTC since it follow \n",
    "# daylight changing times, it is just swiss time -1 hour\n",
    "weather.index = weather.index + datetime.timedelta(hours=1)\n",
    "#in this way we dropped TZ info, but we should have matching times between the two series\n",
    "# the following two cells check that indeed the daylight-saving time switches happen at the same time,\n",
    "# even though the two data sources use two different conventions to write the time when the switch happens"
   ]
  },
  {
   "cell_type": "code",
   "execution_count": 3,
   "metadata": {},
   "outputs": [],
   "source": [
    "start_time = weather.index[(weather.index >= ts.index[0]).argmax()] \n",
    "#take first weather index which is bigger than ts index\n",
    "end_time = weather.index[-1]\n",
    "idx = pd.date_range(start_time, end_time, freq='1 H', tz='Europe/Zurich').tz_localize(None)\n",
    "SAMPS_DAY = 24"
   ]
  },
  {
   "cell_type": "code",
   "execution_count": 4,
   "metadata": {},
   "outputs": [],
   "source": [
    "ts = ts.resample('15 T').first().reindex(idx,method='ffill')\n",
    "weather = weather.resample('1 H').first().reindex(idx, method='ffill')"
   ]
  },
  {
   "cell_type": "code",
   "execution_count": 5,
   "metadata": {},
   "outputs": [],
   "source": [
    "days = ts.index\n",
    "# special days\n",
    "def get_holy(prov):\n",
    "    h = holidays.Switzerland(prov=prov)\n",
    "    return [day in h for day in days]\n",
    "holidays_cantons = pd.DataFrame(data = {prov:get_holy(prov) for prov in holidays.Switzerland.PROVINCES},\n",
    "             index = days)\n",
    "#add sundays (hurts MSE)\n",
    "# holidays_cantons = (holidays_cantons.T | (holidays_cantons.index.dayofweek == 6)).T\n",
    "\n",
    "cantons = pd.read_csv('data/cantons.csv').set_index('Code')\n",
    "#magic trick\n",
    "cantons['Population'] = cantons['Population'].str.extract('([^\\[]*)').iloc[:,0].str.split(',').str.join('').astype(np.intp)\n",
    "\n",
    "holiday_pop = holidays_cantons*cantons['Population']"
   ]
  },
  {
   "cell_type": "markdown",
   "metadata": {},
   "source": [
    "### autoregressive part\n",
    "\n",
    "The consumption $L_{hd}$ today at day $d$ and hour $h$ depends on $L_{h-1d}$, $L_{hd-1}$, $L_{hd-7}$"
   ]
  },
  {
   "cell_type": "code",
   "execution_count": 6,
   "metadata": {},
   "outputs": [],
   "source": [
    "def build_ts_regressor(ts, weather, holiday_pop, fourier_order=4):\n",
    "    #interact annual pattern like (6)\n",
    "    week_lag_idx = np.arange(ts.size-SAMPS_DAY*7)\n",
    "    t = ((\n",
    "        ts.index[SAMPS_DAY*7:ts.size] - pd.datetime(year=ts.index[0].year, month=1, day=1)\n",
    "    ).total_seconds()//(60*24*60/SAMPS_DAY)).astype(np.intp)\n",
    "    samps_year = SAMPS_DAY*7*52\n",
    "    sins =  np.array([np.sin(2*q*np.pi*(t/samps_year)) for q in range(1, fourier_order+1)]).T\n",
    "    cosins =np.array([np.cos(2*q*np.pi*(t/samps_year)) for q in range(1, fourier_order+1)]).T\n",
    "    week_lagged_reg = ts.values[week_lag_idx,None]*np.hstack([np.ones((week_lag_idx.size,1)), sins, cosins])\n",
    "    \n",
    "    #interact daily indicators with daily lag (5)\n",
    "    week_day = ts.index[SAMPS_DAY*7:ts.size].dayofweek\n",
    "    I = np.eye(7)\n",
    "    week_day_indicators = np.array([I[i] for i in week_day])\n",
    "    day_lag_idx = np.arange(SAMPS_DAY*6, ts.size-SAMPS_DAY)\n",
    "    day_lagged_reg = ts.values[day_lag_idx,None]*week_day_indicators\n",
    "    \n",
    "    # hourly lag regressor (7)\n",
    "    hour_lag_idx = np.arange(SAMPS_DAY*7 - 1, ts.size-1)\n",
    "    hour_lagged_reg = ts.values[hour_lag_idx][:,None]\n",
    "    \n",
    "    #temperature\n",
    "    weather_reg = weather.values[SAMPS_DAY*7:ts.size]\n",
    "    \n",
    "    #special days\n",
    "    holiday_reg = holiday_pop.sum(axis=1).values[SAMPS_DAY*7:ts.size, None]\n",
    "    holiday_lagged_reg = holiday_pop.sum(axis=1).values[:ts.size - SAMPS_DAY*7,None]\n",
    "    \n",
    "    return np.hstack(\n",
    "        [\n",
    "            week_lagged_reg,\n",
    "            day_lagged_reg,\n",
    "            hour_lagged_reg,\n",
    "            weather_reg,\n",
    "            holiday_reg,\n",
    "            holiday_lagged_reg\n",
    "        ]\n",
    "    )"
   ]
  },
  {
   "cell_type": "code",
   "execution_count": 7,
   "metadata": {},
   "outputs": [
    {
     "data": {
      "text/plain": [
       "0.03861742208541909"
      ]
     },
     "execution_count": 7,
     "metadata": {},
     "output_type": "execute_result"
    }
   ],
   "source": [
    "MAPE_triv = np.mean(np.abs((ts.values[7*SAMPS_DAY-1:-1] - ts.values[7*SAMPS_DAY:]))/ts.values[7*SAMPS_DAY:])\n",
    "MAPE_triv"
   ]
  },
  {
   "cell_type": "code",
   "execution_count": 8,
   "metadata": {},
   "outputs": [],
   "source": [
    "reg = build_ts_regressor(ts, weather, holiday_pop)\n",
    "lr = LinearRegression().fit(reg, ts.values[7*SAMPS_DAY:])"
   ]
  },
  {
   "cell_type": "code",
   "execution_count": 9,
   "metadata": {},
   "outputs": [
    {
     "data": {
      "text/plain": [
       "0.027898800503406016"
      ]
     },
     "execution_count": 9,
     "metadata": {},
     "output_type": "execute_result"
    }
   ],
   "source": [
    "MAPE = np.mean(np.abs((lr.predict(reg) - ts.values[7*SAMPS_DAY:]))/ts.values[7*SAMPS_DAY:])\n",
    "MAPE"
   ]
  },
  {
   "cell_type": "markdown",
   "metadata": {},
   "source": [
    "### Moving Average part\n",
    "\n",
    "We can now add a moving average component to the mix and see if our forecasting imporves. The moving average takes into account previous hour errors and previous week error.\n",
    "The estimation is done by applying the ordinary linear model, and treating residuals as estimated innovations, and iterating the least square estimation, and innovation estimations."
   ]
  },
  {
   "cell_type": "code",
   "execution_count": 10,
   "metadata": {},
   "outputs": [],
   "source": [
    "reg = build_ts_regressor(ts, weather, holiday_pop)\n",
    "eps = np.zeros_like(ts.values[7*SAMPS_DAY:])\n",
    "# we drop an additional leading week so the least squares estimation is done\n",
    "# with all the estimated epsilons, previous week before included.\n",
    "for c in range(100):\n",
    "    eps_reg = np.hstack([eps[:-7*SAMPS_DAY,None], eps[6*SAMPS_DAY:-SAMPS_DAY,None]])\n",
    "    lr = LinearRegression().fit(np.hstack([reg[7*SAMPS_DAY:],eps_reg]), ts.values[14*SAMPS_DAY:])\n",
    "    eps = ts.values[7*SAMPS_DAY:] - lr.predict(np.hstack([reg, np.vstack([np.zeros([7*SAMPS_DAY,eps_reg.shape[1]]), eps_reg])]))\n",
    "#     print(c, np.mean(np.abs(eps[7*SAMPS_DAY:]/ts.values[14*SAMPS_DAY:])))"
   ]
  },
  {
   "cell_type": "markdown",
   "metadata": {},
   "source": [
    "## Multiple Equations\n",
    "\n",
    "By changing the single regression into 96 individual parameter sets, one for each daily time, we are back to the multiple equations setting described in Clements, Hurn and Li."
   ]
  },
  {
   "cell_type": "code",
   "execution_count": 11,
   "metadata": {},
   "outputs": [
    {
     "name": "stdout",
     "output_type": "stream",
     "text": [
      "0 0.010257072168687311\n",
      "10 0.009143034972703185\n",
      "20 0.00913882409316798\n",
      "30 0.009138798276510771\n",
      "40 0.009138806023057118\n",
      "50 0.009138811520667471\n",
      "60 0.0091388105843345\n",
      "70 0.009138810511398919\n",
      "80 0.009138810583230843\n",
      "90 0.009138810578694923\n"
     ]
    }
   ],
   "source": [
    "reg = build_ts_regressor(ts, weather, holiday_pop)\n",
    "eps = np.zeros_like(ts.values[7*SAMPS_DAY:])\n",
    "regressions = [LinearRegression() for i in range(SAMPS_DAY)]\n",
    "\n",
    "for c in range(100):\n",
    "    eps_reg = np.hstack([eps[:-7*SAMPS_DAY,None], eps[6*SAMPS_DAY:-SAMPS_DAY,None]])\n",
    "    for daily_time in range(SAMPS_DAY):\n",
    "        regressions[daily_time].fit(\n",
    "            np.hstack(\n",
    "                [reg[7*SAMPS_DAY+daily_time::SAMPS_DAY],eps_reg[daily_time::SAMPS_DAY]]\n",
    "            ),\n",
    "            ts.values[daily_time + 14*SAMPS_DAY::SAMPS_DAY]\n",
    "        )\n",
    "        eps[daily_time::SAMPS_DAY] = ts.values[daily_time + 7*SAMPS_DAY::SAMPS_DAY]\\\n",
    "            - regressions[daily_time].predict(\n",
    "                np.hstack([\n",
    "                        reg[daily_time::SAMPS_DAY],\n",
    "                        np.vstack([np.zeros([7*SAMPS_DAY,eps_reg.shape[1]]), eps_reg])[daily_time::SAMPS_DAY]\n",
    "                ])\n",
    "            )\n",
    "    if c % 10 == 0:\n",
    "        print(c, np.mean(np.abs(eps[7*SAMPS_DAY:]/ts.values[14*SAMPS_DAY:])))"
   ]
  },
  {
   "cell_type": "code",
   "execution_count": 12,
   "metadata": {},
   "outputs": [
    {
     "data": {
      "image/png": "[encoded data removed]",
      "text/plain": [
       "<Figure size 1152x360 with 1 Axes>"
      ]
     },
     "metadata": {
      "image/png": {
       "height": 316,
       "width": 979
      },
      "needs_background": "light"
     },
     "output_type": "display_data"
    }
   ],
   "source": [
    "#heavy tailed residuals distribution\n",
    "sm.graphics.qqplot(eps, line='r', dist=stats.t, distargs=(5,));"
   ]
  },
  {
   "cell_type": "markdown",
   "metadata": {},
   "source": [
    "## Cross Validation"
   ]
  },
  {
   "cell_type": "code",
   "execution_count": 13,
   "metadata": {},
   "outputs": [],
   "source": [
    "def test_multiple_eq(ts, weather, holiday_pop):\n",
    "    #regressor\n",
    "    reg = build_ts_regressor(ts, weather, holiday_pop)\n",
    "    eps = np.zeros_like(ts.values[7*SAMPS_DAY:])\n",
    "    regressions = [LinearRegression() for i in range(SAMPS_DAY)]\n",
    "\n",
    "    for c in range(100):\n",
    "        eps_reg = np.hstack([eps[:-7*SAMPS_DAY,None], eps[6*SAMPS_DAY:-SAMPS_DAY,None]])\n",
    "        for daily_time in range(SAMPS_DAY):\n",
    "            regressions[daily_time].fit(\n",
    "                np.hstack(\n",
    "                    [reg[7*SAMPS_DAY+daily_time:-1:SAMPS_DAY],eps_reg[daily_time:-1:SAMPS_DAY]]\n",
    "                ),\n",
    "                ts.values[daily_time + 14*SAMPS_DAY:-1:SAMPS_DAY]\n",
    "            )\n",
    "            eps[daily_time::SAMPS_DAY] = ts.values[daily_time + 7*SAMPS_DAY::SAMPS_DAY]\\\n",
    "                - regressions[daily_time].predict(\n",
    "                    np.hstack([\n",
    "                            reg[daily_time::SAMPS_DAY],\n",
    "                            np.vstack([np.zeros([7*SAMPS_DAY,eps_reg.shape[1]]), eps_reg])[daily_time::SAMPS_DAY]\n",
    "                    ])\n",
    ")\n",
    "            eps\n",
    "    APE = np.abs(eps[-1]/ts.values[-1])\n",
    "    return APE"
   ]
  },
  {
   "cell_type": "code",
   "execution_count": 15,
   "metadata": {
    "scrolled": true
   },
   "outputs": [
    {
     "name": "stdout",
     "output_type": "stream",
     "text": [
      ".........."
     ]
    }
   ],
   "source": [
    "import sys\n",
    "run_length = 10000\n",
    "tests = 10\n",
    "apes = []\n",
    "\n",
    "for test_number in range(tests):\n",
    "    test_start = test_number*(ts.values.size - run_length)//tests\n",
    "    APE = test_multiple_eq(ts.iloc[test_start:test_start + run_length],\n",
    "                     weather.iloc[test_start:test_start + run_length],\n",
    "                     holiday_pop.iloc[test_start:test_start + run_length])\n",
    "    print('.', end='')\n",
    "    if test_number != 0 and test_number % 20 == 0:\n",
    "        print()\n",
    "    sys.stdout.flush()\n",
    "    apes.append(APE)"
   ]
  },
  {
   "cell_type": "code",
   "execution_count": 16,
   "metadata": {},
   "outputs": [
    {
     "data": {
      "text/plain": [
       "[0.001978335107097738,\n",
       " 0.001171484223044473,\n",
       " 0.002891171337933555,\n",
       " 0.004438944811636552,\n",
       " 0.005150354785844235,\n",
       " 0.00962905125063669,\n",
       " 0.005181452457734595,\n",
       " 0.007432864812322249,\n",
       " 0.004063951826560613,\n",
       " 0.012626282878382225]"
      ]
     },
     "execution_count": 16,
     "metadata": {},
     "output_type": "execute_result"
    }
   ],
   "source": [
    "apes"
   ]
  }
 ],
 "metadata": {
  "kernelspec": {
   "display_name": "Python 3",
   "language": "python",
   "name": "python3"
  },
  "language_info": {
   "codemirror_mode": {
    "name": "ipython",
    "version": 3
   },
   "file_extension": ".py",
   "mimetype": "text/x-python",
   "name": "python",
   "nbconvert_exporter": "python",
   "pygments_lexer": "ipython3",
   "version": "3.7.3"
  }
 },
 "nbformat": 4,
 "nbformat_minor": 2
}
